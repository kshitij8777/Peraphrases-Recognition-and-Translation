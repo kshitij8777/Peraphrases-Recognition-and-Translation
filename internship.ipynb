{
 "cells": [
  {
   "cell_type": "code",
   "execution_count": 1,
   "id": "8c8f74c5-3ca5-4881-a611-2d8c9ef693ba",
   "metadata": {},
   "outputs": [
    {
     "name": "stdout",
     "output_type": "stream",
     "text": [
      "Requirement already satisfied: transformers in /opt/anaconda3/lib/python3.12/site-packages (4.46.1)\n",
      "Requirement already satisfied: sentence-transformers in /opt/anaconda3/lib/python3.12/site-packages (3.2.1)\n",
      "Requirement already satisfied: filelock in /opt/anaconda3/lib/python3.12/site-packages (from transformers) (3.13.1)\n",
      "Requirement already satisfied: huggingface-hub<1.0,>=0.23.2 in /opt/anaconda3/lib/python3.12/site-packages (from transformers) (0.26.2)\n",
      "Requirement already satisfied: numpy>=1.17 in /opt/anaconda3/lib/python3.12/site-packages (from transformers) (1.26.4)\n",
      "Requirement already satisfied: packaging>=20.0 in /opt/anaconda3/lib/python3.12/site-packages (from transformers) (23.2)\n",
      "Requirement already satisfied: pyyaml>=5.1 in /opt/anaconda3/lib/python3.12/site-packages (from transformers) (6.0.1)\n",
      "Requirement already satisfied: regex!=2019.12.17 in /opt/anaconda3/lib/python3.12/site-packages (from transformers) (2023.10.3)\n",
      "Requirement already satisfied: requests in /opt/anaconda3/lib/python3.12/site-packages (from transformers) (2.32.2)\n",
      "Requirement already satisfied: safetensors>=0.4.1 in /opt/anaconda3/lib/python3.12/site-packages (from transformers) (0.4.5)\n",
      "Requirement already satisfied: tokenizers<0.21,>=0.20 in /opt/anaconda3/lib/python3.12/site-packages (from transformers) (0.20.1)\n",
      "Requirement already satisfied: tqdm>=4.27 in /opt/anaconda3/lib/python3.12/site-packages (from transformers) (4.66.4)\n",
      "Requirement already satisfied: torch>=1.11.0 in /opt/anaconda3/lib/python3.12/site-packages (from sentence-transformers) (2.5.1)\n",
      "Requirement already satisfied: scikit-learn in /opt/anaconda3/lib/python3.12/site-packages (from sentence-transformers) (1.4.2)\n",
      "Requirement already satisfied: scipy in /opt/anaconda3/lib/python3.12/site-packages (from sentence-transformers) (1.13.1)\n",
      "Requirement already satisfied: Pillow in /opt/anaconda3/lib/python3.12/site-packages (from sentence-transformers) (10.3.0)\n",
      "Requirement already satisfied: fsspec>=2023.5.0 in /opt/anaconda3/lib/python3.12/site-packages (from huggingface-hub<1.0,>=0.23.2->transformers) (2024.3.1)\n",
      "Requirement already satisfied: typing-extensions>=3.7.4.3 in /opt/anaconda3/lib/python3.12/site-packages (from huggingface-hub<1.0,>=0.23.2->transformers) (4.11.0)\n",
      "Requirement already satisfied: networkx in /opt/anaconda3/lib/python3.12/site-packages (from torch>=1.11.0->sentence-transformers) (3.2.1)\n",
      "Requirement already satisfied: jinja2 in /opt/anaconda3/lib/python3.12/site-packages (from torch>=1.11.0->sentence-transformers) (3.1.4)\n",
      "Requirement already satisfied: setuptools in /opt/anaconda3/lib/python3.12/site-packages (from torch>=1.11.0->sentence-transformers) (69.5.1)\n",
      "Requirement already satisfied: sympy==1.13.1 in /opt/anaconda3/lib/python3.12/site-packages (from torch>=1.11.0->sentence-transformers) (1.13.1)\n",
      "Requirement already satisfied: mpmath<1.4,>=1.1.0 in /opt/anaconda3/lib/python3.12/site-packages (from sympy==1.13.1->torch>=1.11.0->sentence-transformers) (1.3.0)\n",
      "Requirement already satisfied: charset-normalizer<4,>=2 in /opt/anaconda3/lib/python3.12/site-packages (from requests->transformers) (2.0.4)\n",
      "Requirement already satisfied: idna<4,>=2.5 in /opt/anaconda3/lib/python3.12/site-packages (from requests->transformers) (3.7)\n",
      "Requirement already satisfied: urllib3<3,>=1.21.1 in /opt/anaconda3/lib/python3.12/site-packages (from requests->transformers) (2.2.2)\n",
      "Requirement already satisfied: certifi>=2017.4.17 in /opt/anaconda3/lib/python3.12/site-packages (from requests->transformers) (2024.8.30)\n",
      "Requirement already satisfied: joblib>=1.2.0 in /opt/anaconda3/lib/python3.12/site-packages (from scikit-learn->sentence-transformers) (1.4.2)\n",
      "Requirement already satisfied: threadpoolctl>=2.0.0 in /opt/anaconda3/lib/python3.12/site-packages (from scikit-learn->sentence-transformers) (2.2.0)\n",
      "Requirement already satisfied: MarkupSafe>=2.0 in /opt/anaconda3/lib/python3.12/site-packages (from jinja2->torch>=1.11.0->sentence-transformers) (2.1.3)\n",
      "Note: you may need to restart the kernel to use updated packages.\n"
     ]
    }
   ],
   "source": [
    "pip install transformers sentence-transformers\n"
   ]
  },
  {
   "cell_type": "code",
   "execution_count": 3,
   "id": "49d8e369-9d59-4268-8dac-33a641e8945d",
   "metadata": {},
   "outputs": [
    {
     "name": "stdout",
     "output_type": "stream",
     "text": [
      "Retrieving notices: ...working... done\n",
      "Channels:\n",
      " - conda-forge\n",
      " - defaults\n",
      "Platform: osx-arm64\n",
      "Collecting package metadata (repodata.json): done\n",
      "Solving environment: done\n",
      "\n",
      "## Package Plan ##\n",
      "\n",
      "  environment location: /opt/anaconda3\n",
      "\n",
      "  added / updated specs:\n",
      "    - sentencepiece\n",
      "\n",
      "\n",
      "The following packages will be downloaded:\n",
      "\n",
      "    package                    |            build\n",
      "    ---------------------------|-----------------\n",
      "    openssl-3.4.0              |       h39f12f2_0         2.8 MB  conda-forge\n",
      "    ------------------------------------------------------------\n",
      "                                           Total:         2.8 MB\n",
      "\n",
      "The following packages will be UPDATED:\n",
      "\n",
      "  openssl                                  3.3.2-h8359307_0 --> 3.4.0-h39f12f2_0 \n",
      "\n",
      "\n",
      "\n",
      "Downloading and Extracting Packages:\n",
      "                                                                                \n",
      "Preparing transaction: done\n",
      "Verifying transaction: done\n",
      "Executing transaction: done\n",
      "\n",
      "Note: you may need to restart the kernel to use updated packages.\n"
     ]
    }
   ],
   "source": [
    "conda install -c conda-forge sentencepiece\n"
   ]
  },
  {
   "cell_type": "code",
   "execution_count": 4,
   "id": "133c0191-e5ef-4aff-9992-3a81e869bfce",
   "metadata": {},
   "outputs": [
    {
     "name": "stdout",
     "output_type": "stream",
     "text": [
      "Requirement already satisfied: sentencepiece in /opt/anaconda3/lib/python3.12/site-packages (0.1.99)\n",
      "Note: you may need to restart the kernel to use updated packages.\n"
     ]
    }
   ],
   "source": [
    "pip install sentencepiece\n"
   ]
  },
  {
   "cell_type": "code",
   "execution_count": 36,
   "id": "d9626b91-3608-4dde-be57-51cbe866d271",
   "metadata": {},
   "outputs": [
    {
     "name": "stdout",
     "output_type": "stream",
     "text": [
      "Are the texts paraphrases? No\n",
      "Translated Text in Hindi: जिम्बाबवे मेरा नाम है खशीज\n",
      "Translated Text in French: Mon nom est Kshitij\n"
     ]
    }
   ],
   "source": [
    "from transformers import MarianMTModel, MarianTokenizer\n",
    "from sentence_transformers import SentenceTransformer, util\n",
    "\n",
    "# Load the paraphrase model\n",
    "paraphrase_model = SentenceTransformer('paraphrase-multilingual-MiniLM-L12-v2')\n",
    "\n",
    "# Load the translation models and tokenizers (English to Hindi and English to French)\n",
    "translation_model_hi = MarianMTModel.from_pretrained('Helsinki-NLP/opus-mt-en-hi')\n",
    "translation_tokenizer_hi = MarianTokenizer.from_pretrained('Helsinki-NLP/opus-mt-en-hi')\n",
    "\n",
    "translation_model_fr = MarianMTModel.from_pretrained('Helsinki-NLP/opus-mt-en-fr')\n",
    "translation_tokenizer_fr = MarianTokenizer.from_pretrained('Helsinki-NLP/opus-mt-en-fr')\n",
    "\n",
    "def translate_text(text, target_lang):\n",
    "    \"\"\"Translates text from English to the specified target language (either 'hi' for Hindi or 'fr' for French).\"\"\"\n",
    "    # Set the appropriate model and tokenizer based on target language\n",
    "    if target_lang == 'hi':\n",
    "        model, tokenizer = translation_model_hi, translation_tokenizer_hi\n",
    "    elif target_lang == 'fr':\n",
    "        model, tokenizer = translation_model_fr, translation_tokenizer_fr\n",
    "    else:\n",
    "        raise ValueError(\"Unsupported language code. Use 'hi' for Hindi or 'fr' for French.\")\n",
    "\n",
    "    # Translate the text\n",
    "    text = f\">>{target_lang}<< {text}\"\n",
    "    tokenized_text = tokenizer(text, return_tensors=\"pt\", padding=True)\n",
    "    translated = model.generate(**tokenized_text)\n",
    "    return tokenizer.decode(translated[0], skip_special_tokens=True).replace(\" ?\", \"?\").replace(\" !\", \"!\")\n",
    "\n",
    "def check_paraphrase(text1, text2):\n",
    "    \"\"\"Checks if two texts are paraphrases using a sentence similarity model.\"\"\"\n",
    "    embeddings1 = paraphrase_model.encode(text1, convert_to_tensor=True)\n",
    "    embeddings2 = paraphrase_model.encode(text2, convert_to_tensor=True)\n",
    "    similarity_score = util.pytorch_cos_sim(embeddings1, embeddings2).item()\n",
    "    return similarity_score > 0.8  # Assuming a threshold of 0.8 for paraphrase similarity\n",
    "\n",
    "# Example usage\n",
    "text1 = \"my name is  kshitij\"\n",
    "text2 = \"Hi, how are you?\"\n",
    "\n",
    "# Step 1: Check if texts are paraphrases\n",
    "is_paraphrase = check_paraphrase(text1, text2)\n",
    "print(f\"Are the texts paraphrases? {'Yes' if is_paraphrase else 'No'}\")\n",
    "\n",
    "# Step 2: Translate text1 into Hindi and French\n",
    "translated_text_hi = translate_text(text1, 'hi')\n",
    "translated_text_fr = translate_text(text1, 'fr')\n",
    "print(f\"Translated Text in Hindi: {translated_text_hi}\")\n",
    "print(f\"Translated Text in French: {translated_text_fr}\")\n"
   ]
  },
  {
   "cell_type": "code",
   "execution_count": null,
   "id": "1ce2a1cf-486a-4c37-a55f-1e9b68414e0f",
   "metadata": {},
   "outputs": [],
   "source": []
  },
  {
   "cell_type": "code",
   "execution_count": null,
   "id": "02c03043-3b66-46b8-a257-15b82e218e4e",
   "metadata": {},
   "outputs": [],
   "source": []
  }
 ],
 "metadata": {
  "kernelspec": {
   "display_name": "Python 3 (ipykernel)",
   "language": "python",
   "name": "python3"
  },
  "language_info": {
   "codemirror_mode": {
    "name": "ipython",
    "version": 3
   },
   "file_extension": ".py",
   "mimetype": "text/x-python",
   "name": "python",
   "nbconvert_exporter": "python",
   "pygments_lexer": "ipython3",
   "version": "3.12.2"
  }
 },
 "nbformat": 4,
 "nbformat_minor": 5
}
